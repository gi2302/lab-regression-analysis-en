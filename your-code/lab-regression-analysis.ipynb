{
 "cells": [
  {
   "cell_type": "markdown",
   "metadata": {},
   "source": [
    "# Lab: Regression Analysis"
   ]
  },
  {
   "cell_type": "markdown",
   "metadata": {},
   "source": [
    "### Before you start:\n",
    "\n",
    "* Read the README.md file\n",
    "* Comment as much as you can and use the resources (README.md file) \n",
    "\n",
    "Happy learning!"
   ]
  },
  {
   "cell_type": "markdown",
   "metadata": {},
   "source": [
    "## Challenge 1\n",
    "I work at a coding bootcamp, and I have developed a theory that the younger my students are, the more often they are late to class. In order to test my hypothesis, I have collected some data in the following table:\n",
    "\n",
    "| StudentID | Age | Tardies |\n",
    "|--------|-----|------------|\n",
    "| 1      | 17  | 10         |\n",
    "| 2      | 51  | 1          |\n",
    "| 3      | 27  | 5          |\n",
    "| 4      | 21  | 9         |\n",
    "| 5      | 36  |  4         |\n",
    "| 6      | 48  |  2         |\n",
    "| 7      | 19  |  9         |\n",
    "| 8      | 26  | 6          |\n",
    "| 9      | 54  |  0         |\n",
    "| 10     | 30  |  3         |"
   ]
  },
  {
   "cell_type": "code",
   "execution_count": null,
   "metadata": {},
   "outputs": [],
   "source": [
    "import pandas as pd\n",
    "import numpy as np\n",
    "import plotly.express as px\n",
    "import statsmodels.formula.api as smf\n",
    "from sklearn.linear_model import LinearRegression\n",
    "import matplotlib.pyplot as plt\n",
    "import seaborn as sns"
   ]
  },
  {
   "cell_type": "markdown",
   "metadata": {},
   "source": [
    "Use this command to create a dataframe with the data provided in the table. \n",
    "~~~~\n",
    "student_data = pd.DataFrame({'Age': [17,51,27,21,36,48,19,26,54,30], 'Tardies': [10,1,5,9,4,2,9,6,0,3]})\n",
    "~~~~"
   ]
  },
  {
   "cell_type": "code",
   "execution_count": null,
   "metadata": {},
   "outputs": [],
   "source": [
    "# Your code here. \n",
    "\n",
    "student_data = pd.DataFrame({'Age': [17, 51, 27, 21, 36, 48, 19, 26, 54, 30], \n",
    "                             'Tardies': [10, 1, 5, 9, 4, 2, 9, 6, 0, 3]})\n",
    "\n",
    "student_data\n"
   ]
  },
  {
   "cell_type": "markdown",
   "metadata": {},
   "source": [
    "Draw a dispersion diagram (scatter plot) for the data."
   ]
  },
  {
   "cell_type": "code",
   "execution_count": null,
   "metadata": {},
   "outputs": [],
   "source": [
    "# Your code here\n",
    "\n",
    "plt.figure(figsize=(8, 6))\n",
    "plt.scatter(student_data['Age'], student_data['Tardies'], color='blue')\n",
    "plt.title('Scatter Plot: Age vs Tardies')\n",
    "plt.xlabel('Age')\n",
    "plt.ylabel('Tardies')\n",
    "plt.show()\n"
   ]
  },
  {
   "cell_type": "markdown",
   "metadata": {},
   "source": [
    "Do you see a trend? Can you make any hypotheses about the relationship between age and number of tardies?"
   ]
  },
  {
   "cell_type": "markdown",
   "metadata": {},
   "source": [
    "*your explanation here*\n",
    "\n",
    "### Explanation of the Trend\n",
    "\n",
    "From the scatter plot, we can observe a negative trend between the **Age** of the students and their **number of tardies**. As the age of the students increases, the number of tardies generally decreases. This suggests that younger students tend to be more tardy compared to older students.\n",
    "\n",
    "**Hypothesis:** Based on the observed trend, one could hypothesize that younger students are more likely to be late to class than older students. This could be due to factors such as time management, responsibility, or other personal factors affecting punctuality.\n",
    "\n",
    "We can further test this hypothesis using regression analysis to quantify the relationship between age and tardiness.\n"
   ]
  },
  {
   "cell_type": "markdown",
   "metadata": {},
   "source": [
    "Calculate the covariance and correlation of the variables in your plot. What is the difference between these two measures? Compare their values. What do they tell you in this case? Add your responses as comments after your code."
   ]
  },
  {
   "cell_type": "code",
   "execution_count": null,
   "metadata": {},
   "outputs": [],
   "source": [
    "# your code here\n",
    "\n",
    "# Calculate covariance\n",
    "covariance = student_data.cov().loc['Age', 'Tardies']\n",
    "\n",
    "# Calculate correlation\n",
    "correlation = student_data.corr().loc['Age', 'Tardies']\n",
    "\n",
    "# Print results\n",
    "print(f\"Covariance: {covariance}\")\n",
    "print(f\"Correlation: {correlation}\")\n"
   ]
  },
  {
   "cell_type": "markdown",
   "metadata": {},
   "source": [
    "### Covariance and Correlation Analysis\n",
    "\n",
    "The covariance between **Age** and **Tardies** is **-45.57**, and the correlation is **-0.94**.\n",
    "\n",
    "- **Covariance**: The negative covariance of **-45.57** indicates that as age increases, tardiness tends to decrease. However, covariance is not normalized, so its magnitude alone doesn't tell us much about the strength of the relationship.\n",
    "  \n",
    "- **Correlation**: The correlation of **-0.94** is very strong and negative, which confirms that there is a strong inverse relationship between age and tardiness. As age increases, tardiness decreases significantly, which supports the hypothesis that younger students are more likely to be tardy.\n",
    "\n",
    "In this case, both measures suggest a strong negative relationship, but the correlation is more informative because it quantifies the strength and direction of the relationship on a scale from -1 to 1.\n"
   ]
  },
  {
   "cell_type": "markdown",
   "metadata": {},
   "source": [
    "Build a regression model for this data. What will be your outcome variable? What type of regression are you using? Add your responses as comments after your code."
   ]
  },
  {
   "cell_type": "code",
   "execution_count": null,
   "metadata": {},
   "outputs": [],
   "source": [
    "# your code here\n",
    "\n",
    "# Defining the independent variable (Age) and dependent variable (Tardies)\n",
    "X = student_data[['Age']]  # Independent variable (Age)\n",
    "y = student_data['Tardies']  # Dependent variable (Tardies)\n",
    "\n",
    "# Creating a linear regression model\n",
    "model = LinearRegression()\n",
    "model.fit(X, y)\n",
    "\n",
    "# Printing the slope (coefficient) and intercept of the model\n",
    "slope = model.coef_[0]\n",
    "intercept = model.intercept_\n",
    "\n",
    "print(f\"Slope: {slope}\")\n",
    "print(f\"Intercept: {intercept}\")\n"
   ]
  },
  {
   "cell_type": "markdown",
   "metadata": {},
   "source": [
    "### Regression Model Results\n",
    "\n",
    "1. **Outcome Variable**: The **outcome variable** (dependent variable) is **Tardies**, which we are trying to predict based on the independent variable **Age**.\n",
    "\n",
    "2. **Type of Regression**: We are using a **linear regression** model to analyze the relationship between **Age** and **Tardies**.\n",
    "\n",
    "After fitting the **linear regression** model, we obtained the following results:\n",
    "\n",
    "- **Slope**: The slope of the regression line is **-0.24**. This means that for each increase of 1 year in age, the number of tardies decreases by approximately **0.24**. This supports the negative relationship between age and tardiness that we observed earlier.\n",
    "  \n",
    "- **Intercept**: The intercept is **12.89**. This represents the predicted number of tardies when a student’s age is 0, which doesn't have a practical interpretation in this case but is necessary for the regression equation.\n",
    "\n",
    "The equation of the regression model is:\n",
    "\n",
    "$$\n",
    "Tardies = 12.89 - 0.24 \\times Age\n",
    "$$\n",
    "\n",
    "This **linear regression** model suggests that as students get older, their tardiness tends to decrease, consistent with the trend observed in the scatter plot.\n",
    "\n",
    "### Conclusion:\n",
    "- The **slope** of the regression model confirms that there is a **negative relationship** between **Age** and **Tardies**, meaning that older students tend to have fewer tardies.\n",
    "- The **intercept** value is primarily used to fit the line but doesn't have a direct, meaningful interpretation in this context, as age cannot be zero in a practical scenario.\n"
   ]
  },
  {
   "cell_type": "markdown",
   "metadata": {},
   "source": [
    "Plot your regression model on your scatter plot."
   ]
  },
  {
   "cell_type": "code",
   "execution_count": null,
   "metadata": {},
   "outputs": [],
   "source": [
    "# Your code here.\n",
    "\n",
    "# Plotting the regression line on the scatter plot\n",
    "plt.figure(figsize=(8, 6))\n",
    "plt.scatter(student_data['Age'], student_data['Tardies'], color='blue')\n",
    "\n",
    "# Plotting the regression line\n",
    "plt.plot(student_data['Age'], model.predict(X), color='red', linewidth=2)\n",
    "\n",
    "# Adding titles and labels\n",
    "plt.title('Scatter Plot with Regression Line: Age vs Tardies')\n",
    "plt.xlabel('Age')\n",
    "plt.ylabel('Tardies')\n",
    "plt.show()"
   ]
  },
  {
   "cell_type": "markdown",
   "metadata": {},
   "source": [
    "Interpret the results of your model. What can conclusions can you draw from your model and how confident in these conclusions are you? Can we say that age is a good predictor of tardiness? Add your responses as comments after your code."
   ]
  },
  {
   "cell_type": "code",
   "execution_count": null,
   "metadata": {},
   "outputs": [],
   "source": [
    "# Your code here (I added this)\n",
    "\n",
    "# Summarizing the regression model\n",
    "print(f\"Slope: {slope}\")\n",
    "print(f\"Intercept: {intercept}\")\n",
    "print(f\"R-squared: {model.score(X, y)}\")\n",
    "\n",
    "# Confidence of the model\n",
    "r_squared = model.score(X, y)\n",
    "if r_squared > 0.9:\n",
    "    confidence = \"high\"\n",
    "elif r_squared > 0.7:\n",
    "    confidence = \"moderate\"\n",
    "else:\n",
    "    confidence = \"low\"\n",
    "\n",
    "print(f\"Confidence in the model: {confidence}\")\n"
   ]
  },
  {
   "cell_type": "markdown",
   "metadata": {},
   "source": [
    "*your explanation here*\n",
    "\n",
    "### Interpretation of the Model Results\n",
    "\n",
    "The regression model suggests a negative relationship between **Age** and **Tardies**, with a slope of **-0.24**. This means that as students age, the number of tardies tends to decrease. While the **intercept** value of **12.89** is not practically meaningful, it is part of the regression equation.\n",
    "\n",
    "The **R-squared** value is **0.88**, which indicates that the model explains **88%** of the variability in tardiness based on age. This is considered a **moderate** fit, meaning the model does a decent job of capturing the relationship between age and tardiness. \n",
    "\n",
    "Given the **R-squared** value of **0.88**, we can say that **Age** is a **moderate predictor** of **Tardies**, but we should also consider other factors that may contribute to tardiness. The model shows a strong relationship, but it’s not perfect.\n",
    "\n",
    "Overall, while **Age** appears to be a good predictor of tardiness, we should keep in mind that there may be other unaccounted factors influencing the results.\n"
   ]
  },
  {
   "cell_type": "markdown",
   "metadata": {},
   "source": [
    "## Challenge 2\n",
    "For the second part of this lab, we will use the vehicles.csv data set. You can find a copy of the dataset in the git hub folder. This dataset includes variables related to vehicle characteristics, including the model, make, and energy efficiency standards, as well as each car's CO2 emissions. As discussed in class the goal of this exercise is to predict vehicles' CO2 emissions based on several independent variables. "
   ]
  },
  {
   "cell_type": "code",
   "execution_count": null,
   "metadata": {},
   "outputs": [],
   "source": [
    "# Import any libraries you may need & the data\n",
    "\n",
    "vehicles = pd.read_csv('../vehicles.csv')\n",
    "\n",
    "vehicles.head()"
   ]
  },
  {
   "cell_type": "markdown",
   "metadata": {},
   "source": [
    "Let's use the following variables for our analysis: Year, Cylinders, Fuel Barrels/Year, Combined MPG, and Fuel Cost/Year. We will use 'CO2 Emission Grams/Mile' as our outcome variable. \n",
    "\n",
    "Calculate the correlations between each of these variables and the outcome. Which variable do you think will be the most important in determining CO2 emissions? Which provides the least amount of helpful information for determining CO2 emissions? Add your responses as comments after your code."
   ]
  },
  {
   "cell_type": "code",
   "execution_count": null,
   "metadata": {},
   "outputs": [],
   "source": [
    "# Your code here\n",
    "\n",
    "# Select the relevant columns for correlation calculation\n",
    "selected_columns = ['Year', 'Cylinders', 'Fuel Barrels/Year', 'Combined MPG', 'Fuel Cost/Year', 'CO2 Emission Grams/Mile']\n",
    "vehicles_selected = vehicles[selected_columns]\n",
    "\n",
    "# Calculate the correlation matrix\n",
    "correlation_matrix = vehicles_selected.corr()\n",
    "\n",
    "# Print the correlation between each variable and CO2 Emissions with explanations\n",
    "print(\"Correlation with CO2 Emission Grams/Mile:\")\n",
    "for column in correlation_matrix.columns[:-1]:  # Exclude the 'CO2 Emission Grams/Mile' itself\n",
    "    print(f\"{column}: {correlation_matrix['CO2 Emission Grams/Mile'][column]}\")\n",
    "    if correlation_matrix['CO2 Emission Grams/Mile'][column] > 0.7:\n",
    "        print(f\"  - A strong positive correlation with CO2 emissions, indicating that as {column} increases, CO2 emissions tend to increase.\")\n",
    "    elif correlation_matrix['CO2 Emission Grams/Mile'][column] < -0.7:\n",
    "        print(f\"  - A strong negative correlation with CO2 emissions, indicating that as {column} increases, CO2 emissions tend to decrease.\")\n",
    "    else:\n",
    "        print(f\"  - A weak correlation with CO2 emissions.\")\n"
   ]
  },
  {
   "cell_type": "markdown",
   "metadata": {},
   "source": [
    "Build a regression model for this data. What type of regression are you using? Add your responses as comments after your code."
   ]
  },
  {
   "cell_type": "code",
   "execution_count": null,
   "metadata": {},
   "outputs": [],
   "source": [
    "# Your code here.\n",
    "\n",
    "import statsmodels.api as sm\n",
    "\n",
    "# Select the independent variables (features) and the dependent variable (target)\n",
    "X = vehicles[['Year', 'Cylinders', 'Fuel Barrels/Year', 'Combined MPG', 'Fuel Cost/Year']]\n",
    "y = vehicles['CO2 Emission Grams/Mile']\n",
    "\n",
    "# Add a constant to the independent variables matrix (for the intercept)\n",
    "X = sm.add_constant(X)\n",
    "\n",
    "# Fit the OLS regression model\n",
    "model = sm.OLS(y, X).fit()\n"
   ]
  },
  {
   "cell_type": "markdown",
   "metadata": {},
   "source": [
    "### Regression Model\n",
    "\n",
    "In this analysis, we used **Ordinary Least Squares (OLS)** regression to model the relationship between several vehicle characteristics and **CO2 Emissions Grams/Mile**. **OLS** is a linear regression technique that estimates the relationship between the dependent variable (CO2 emissions) and the independent variables (Year, Cylinders, Fuel Barrels/Year, Combined MPG, and Fuel Cost/Year) by minimizing the sum of the squared residuals.\n",
    "\n",
    "The purpose of this model is to predict **CO2 Emissions** based on vehicle attributes, and it helps to understand how factors such as **fuel consumption**, **fuel efficiency**, and **engine size** contribute to CO2 emissions.\n"
   ]
  },
  {
   "cell_type": "markdown",
   "metadata": {},
   "source": [
    "Print your regression summary, and interpret the results. What are the most important varibles in your model and why? What can conclusions can you draw from your model and how confident in these conclusions are you? Add your responses as comments after your code."
   ]
  },
  {
   "cell_type": "code",
   "execution_count": null,
   "metadata": {},
   "outputs": [],
   "source": [
    "# Print the full regression summary\n",
    "print(model.summary())\n"
   ]
  },
  {
   "cell_type": "markdown",
   "metadata": {
    "jp-MarkdownHeadingCollapsed": true
   },
   "source": [
    "### Interpretation of the Model Results\n",
    "\n",
    "The **OLS regression model** has been fitted to predict **CO2 Emission Grams/Mile** based on several independent variables. Below is the analysis of the most important variables, conclusions, and the confidence in the model.\n",
    "\n",
    "#### Key Variables:\n",
    "\n",
    "- **Fuel Barrels/Year**: The coefficient is **19.05**, meaning that for every additional barrel of fuel consumed per year, CO2 emissions increase by 19.05 grams per mile. This is the **strongest predictor** of CO2 emissions in the model, indicating that fuel consumption is a critical factor.\n",
    "\n",
    "- **Combined MPG**: The coefficient is **-3.04**, meaning that for every 1 unit increase in Combined MPG, CO2 emissions decrease by 3.04 grams per mile. This **strong negative correlation** shows that more fuel-efficient vehicles emit less CO2.\n",
    "\n",
    "- **Cylinders**: The coefficient is **1.88**, meaning that for every additional cylinder, CO2 emissions increase by 1.88 grams per mile. This **positive correlation** suggests that larger engines tend to produce more CO2.\n",
    "\n",
    "- **Year**: The coefficient is **-0.32**, meaning that newer vehicles tend to emit less CO2, although this effect is smaller compared to fuel consumption or MPG.\n",
    "\n",
    "- **Fuel Cost/Year**: The coefficient is **0.032**, indicating that higher fuel costs are associated with higher CO2 emissions. While this relationship is positive, its impact is much less pronounced than other factors like fuel consumption or MPG.\n",
    "\n",
    "#### Model Equation:\n",
    "\n",
    "The regression model can be expressed as:\n",
    "\n",
    "$$\n",
    "\\text{CO2 Emission Grams/Mile} = 769.89 - 0.32 \\times \\text{Year} + 1.88 \\times \\text{Cylinders} + 19.05 \\times \\text{Fuel Barrels/Year} - 3.04 \\times \\text{Combined MPG} + 0.032 \\times \\text{Fuel Cost/Year}\n",
    "$$\n",
    "\n",
    "Where:\n",
    "- **Year**: The year of the vehicle\n",
    "- **Cylinders**: The number of cylinders in the engine\n",
    "- **Fuel Barrels/Year**: The fuel consumption of the vehicle (in barrels per year)\n",
    "- **Combined MPG**: The combined miles per gallon (fuel efficiency)\n",
    "- **Fuel Cost/Year**: The cost of fuel per year\n",
    "\n",
    "#### Confidence in the Model:\n",
    "\n",
    "- The **R-squared** value of **0.981** indicates that the model explains **98.1%** of the variability in CO2 emissions. This is considered an excellent fit for the data, suggesting that the model is highly effective at predicting CO2 emissions based on the vehicle characteristics provided.\n",
    "\n",
    "- The **p-values** for all variables are **0.000**, indicating that each variable has a statistically significant relationship with CO2 emissions at the 95% confidence level. This means that all the predictors used in the model are important in predicting CO2 emissions.\n",
    "\n",
    "- **Multicollinearity**: Although the model fits the data well, the **Condition Number** is **620,000**, which suggests that there may be significant multicollinearity between the independent variables. A high Condition Number indicates that the model could be unstable, and the relationships between the independent variables may be too strong, potentially affecting the accuracy of the coefficients.\n",
    "\n",
    "#### Conclusion:\n",
    "\n",
    "Based on the results, **Fuel Barrels/Year** and **Combined MPG** are the most important variables in predicting **CO2 Emissions**. These variables have the strongest relationships with CO2 emissions, with fuel consumption having the greatest impact. While the model provides a high level of confidence with an **R-squared** of **0.981**, it’s important to consider that other factors not included in the model may also influence CO2 emissions.\n",
    "\n",
    "The model suggests that increasing fuel efficiency and reducing fuel consumption are key to reducing CO2 emissions in vehicles.\n"
   ]
  },
  {
   "cell_type": "markdown",
   "metadata": {},
   "source": [
    "## Bonus Challenge: Error Analysis"
   ]
  },
  {
   "cell_type": "markdown",
   "metadata": {},
   "source": [
    "I am suspicious about the last few parties I have thrown: it seems that the more people I invite the more people are unable to attend. To know if my hunch is supported by data, I have decided to do an analysis. I have collected my data in the table below, where X is the number of people I invited, and Y is the number of people who attended. \n",
    "\n",
    "|  X |  Y |\n",
    "|----|----|\n",
    "| 1  |  1 |\n",
    "| 3  |  2 |\n",
    "| 4  |  4 |\n",
    "| 6  |  4 |\n",
    "| 8  |  5 |\n",
    "| 9  |  7 |\n",
    "| 11 |  8 |\n",
    "| 14 |  13 |"
   ]
  },
  {
   "cell_type": "markdown",
   "metadata": {},
   "source": [
    "We want to know if the relationship modeled by the two random variables is linear or not, and therefore if it is appropriate to model it with a linear regression. \n",
    "First, build a dataframe with the data. "
   ]
  },
  {
   "cell_type": "code",
   "execution_count": null,
   "metadata": {},
   "outputs": [],
   "source": [
    "# Your code here.\n",
    "\n",
    "import pandas as pd\n",
    "\n",
    "# Create a DataFrame with the data provided\n",
    "data = pd.DataFrame({'X': [1, 3, 4, 6, 8, 9, 11, 14], 'Y': [1, 2, 4, 4, 5, 7, 8, 13]})\n",
    "\n",
    "# Display the DataFrame\n",
    "print(data)\n"
   ]
  },
  {
   "cell_type": "markdown",
   "metadata": {},
   "source": [
    "Draw a dispersion diagram (scatter plot) for the data, and fit a regression line."
   ]
  },
  {
   "cell_type": "code",
   "execution_count": null,
   "metadata": {},
   "outputs": [],
   "source": [
    "# Your code here.\n",
    "\n",
    "import matplotlib.pyplot as plt  # Importing the plotting library\n",
    "import numpy as np  # Importing numpy for numerical operations (not used here but often helpful)\n",
    "import seaborn as sns  # Importing seaborn for advanced statistical plots\n",
    "\n",
    "# Create a new figure for the plot with a specified size\n",
    "plt.figure(figsize=(8, 6))  # (width, height) in inches\n",
    "\n",
    "# Scatter plot: Plot the data points for 'X' (People Invited) and 'Y' (People Attended)\n",
    "plt.scatter(data['X'], data['Y'], color='blue', label='Data Points')  # Plotting the actual data points in blue\n",
    "\n",
    "# Fit a regression line: This will calculate and draw the line that best fits the data\n",
    "sns.regplot(x='X', y='Y', data=data, scatter=False, color='red', line_kws={\"color\": \"red\", \"linewidth\": 2})\n",
    "# `data=data` tells seaborn to use the `data` DataFrame for plotting, and 'X' and 'Y' columns from that DataFrame\n",
    "# `scatter=False` means only the regression line will be plotted, not the individual data points\n",
    "# `color='red'` specifies the color of the regression line\n",
    "# `line_kws={\"color\": \"red\", \"linewidth\": 2}` adjusts the appearance of the regression line (color and thickness)\n",
    "\n",
    "# Add a title to the plot\n",
    "plt.title('Scatter Plot with Regression Line: People Invited vs People Attended')\n",
    "\n",
    "# Add labels to the x and y axes to describe the data\n",
    "plt.xlabel('Number of People Invited (X)')\n",
    "plt.ylabel('Number of People Attended (Y)')\n",
    "\n",
    "# Display a legend to explain the plot elements\n",
    "plt.legend()\n",
    "\n",
    "# Show the plot\n",
    "plt.show()  # This displays the plot in the output\n"
   ]
  },
  {
   "cell_type": "markdown",
   "metadata": {},
   "source": [
    "What do you see? What does this plot tell you about the likely relationship between the variables? Print the results from your regression."
   ]
  },
  {
   "cell_type": "markdown",
   "metadata": {},
   "source": [
    "*your explanation here*\n",
    "\n",
    "### Explanation of the Plot\n",
    "\n",
    "The scatter plot with the regression line shows a positive linear relationship between **Number of People Invited** (X) and **Number of People Attended** (Y). As the number of people invited increases, the number of people who attended also increases. The red regression line fits the data points, indicating that this relationship is likely linear. The shaded area around the regression line represents the confidence interval, showing the range of values we expect for the data.\n",
    "\n",
    "Now, we will print the results of the regression to confirm the strength of this relationship and its significance.\n",
    "\n"
   ]
  },
  {
   "cell_type": "code",
   "execution_count": null,
   "metadata": {
    "scrolled": true
   },
   "outputs": [],
   "source": [
    "# Your code here (I added this)\n",
    "\n",
    "import statsmodels.api as sm\n",
    "\n",
    "# Define the independent (X) and dependent (Y) variables\n",
    "X = data['X']  # Number of people invited (independent variable)\n",
    "Y = data['Y']  # Number of people attended (dependent variable)\n",
    "\n",
    "# Add a constant to the independent variable (for the intercept)\n",
    "X = sm.add_constant(X)\n",
    "\n",
    "# Fit the regression model\n",
    "model = sm.OLS(Y, X).fit()\n",
    "\n",
    "# Print the summary of the regression model\n",
    "print(model.summary())\n"
   ]
  },
  {
   "cell_type": "markdown",
   "metadata": {},
   "source": [
    "### Regression Model Results\n",
    "\n",
    "The regression model was fitted using **Ordinary Least Squares (OLS)**, and the following key results were obtained:\n",
    "\n",
    "- **R-squared: 0.932**: The model explains **93.2%** of the variability in the dependent variable **Y** (Number of People Attended). This indicates that the model provides a strong fit for the data.\n",
    "\n",
    "- **Adjusted R-squared: 0.920**: This adjusted value accounts for the number of predictors in the model. It confirms that the model still explains a significant portion of the variance after considering the number of data points.\n",
    "\n",
    "- **F-statistic: 81.81** and **Prob (F-statistic): 0.000102**: The very low p-value for the F-statistic indicates that the model as a whole is statistically significant. In other words, the independent variable **X** (Number of People Invited) significantly explains the variation in the dependent variable **Y** (Number of People Attended).\n",
    "\n",
    "- **Coefficients**:\n",
    "  - **Intercept (const)**: -0.4394. The intercept represents the expected value of **Y** when **X** is zero. While the intercept is statistically insignificant (with a high p-value of **0.584**), it is included for the regression equation.\n",
    "  - **Slope (X)**: 0.8485. For each additional person invited, the number of people who attend increases by approximately **0.85**. The slope is statistically significant, as shown by the very low p-value (**0.000**).\n",
    "\n",
    "- **Standard errors** and **t-statistics**: These values show the precision of the coefficient estimates. The **t-statistics** are quite high for both the intercept and slope, indicating that the coefficients are estimated with good precision.\n",
    "\n",
    "- **P-values**:\n",
    "  - **P>|t| for X**: 0.000, which indicates that the number of people invited (**X**) is statistically significant in predicting the number of people who attend.\n",
    "  - **P>|t| for const**: 0.584, indicating that the intercept term is not statistically significant.\n",
    "\n",
    "- **Durbin-Watson statistic: 1.867**: This value is close to 2, indicating that there is no significant autocorrelation in the residuals, meaning the errors are independent.\n",
    "\n",
    "- **Skew and Kurtosis**: The **skew** value of **0.261** indicates a slight positive skew, while the **kurtosis** value of **1.873** suggests the distribution is slightly flatter than a normal distribution.\n",
    "\n",
    "- **UserWarning**: The warning related to the **kurtosistest** is due to the small sample size (n=8), which is less than the recommended 20 data points. This warning can be ignored in this context, but it highlights that the results may not be as robust due to the small sample.\n",
    "\n",
    "### Conclusion:\n",
    "The regression results show a **strong positive linear relationship** between the number of people invited and the number of people who attended the party. **X (number of people invited)** is a statistically significant predictor of **Y (number of people attended)**. However, due to the small sample size, the results should be interpreted with caution.\n"
   ]
  },
  {
   "cell_type": "markdown",
   "metadata": {},
   "source": [
    "Do you see any problematic points, or outliers, in your data? Remove these points and recalculate your regression. Print the new dispersion diagram with your new model and the results of your model. "
   ]
  },
  {
   "cell_type": "markdown",
   "metadata": {},
   "source": [
    "### Identifying Outliers: Visual Inspection\n",
    "\n",
    "Upon inspecting the scatter plot with the regression line, a few data points stand out as potential outliers:\n",
    "\n",
    "**Point (X = 14, Y = 13)**:\n",
    "   - This point is far away from the regression line, indicating it may be an outlier with a much higher value of **Y** compared to the rest of the data points.\n",
    "   - This point appears to be significantly influencing the fit of the regression model and should be closely examined.\n",
    "\n"
   ]
  },
  {
   "cell_type": "markdown",
   "metadata": {},
   "source": [
    "*Your response here*\n",
    "\n",
    "### Identification and Removal of Problematic Points\n",
    "\n",
    "We have carefully examined the dataset using multiple methods to identify any **problematic points** or **outliers** that could affect the regression model. Below are the findings from the different methods:\n",
    "\n",
    "#### **Visual Inspection**:\n",
    "- Based on a visual inspection of the scatter plot, there were no clear outliers that were significantly far from the regression line. However, **Point (X = 14, Y = 13)** appeared to deviate from the overall pattern, suggesting it might be an influential point.\n",
    "\n",
    "\n",
    "\n",
    "### Next Step:\n",
    "We will remove **Point (X = 14)** and recalculate the regression to see if the model improves. We will also visualize the updated dispersion diagram with the new model and display the results.\n",
    "\n"
   ]
  },
  {
   "cell_type": "code",
   "execution_count": null,
   "metadata": {},
   "outputs": [],
   "source": [
    "# Step 1: Remove Point (X = 14) from the data\n",
    "updated_data = data[data['X'] != 14]\n",
    "\n",
    "# Step 2: Recalculate the regression model without Point (X = 14)\n",
    "X_updated = sm.add_constant(updated_data['X'])  # Add a constant for the intercept term\n",
    "y_updated = updated_data['Y']\n",
    "\n",
    "# Fit the new regression model\n",
    "updated_model = sm.OLS(y_updated, X_updated).fit()\n",
    "\n",
    "# Step 3: Display the updated regression summary\n",
    "print(updated_model.summary())\n",
    "\n",
    "# Step 4: Plot the updated regression model with the new dispersion diagram\n",
    "plt.figure(figsize=(8, 6))\n",
    "plt.scatter(updated_data['X'], updated_data['Y'], color='blue', label='Data Points')  # Updated scatter plot\n",
    "sns.regplot(x='X', y='Y', data=updated_data, scatter=False, color='red', line_kws={\"color\": \"red\", \"linewidth\": 2})  # Updated regression line\n",
    "plt.title('Updated Scatter Plot with Regression Line: People Invited vs People Attended')\n",
    "plt.xlabel('Number of People Invited (X)')\n",
    "plt.ylabel('Number of People Attended (Y)')\n",
    "plt.legend()\n",
    "plt.show()\n"
   ]
  },
  {
   "cell_type": "markdown",
   "metadata": {},
   "source": [
    "### Updated Regression Model\n",
    "\n",
    "After removing the influential point **(X = 14)**, we recalculated the regression model, and the results are as follows:\n",
    "\n",
    "- **R-squared**: **0.943**, which indicates a strong fit of the model to the data. The model now explains **94.3%** of the variability in the number of people who attended based on the number of people invited.\n",
    "- **Adjusted R-squared**: **0.932**, which is also a high value, showing that the model remains well-fitting after removing the problematic point.\n",
    "- **Slope**: The **slope of 0.6842** suggests that for every additional person invited, the number of people attending increases by **0.6842** people.\n",
    "- **Intercept**: The **intercept of 0.3233** is the predicted number of attendees when no one is invited.\n",
    "- **F-statistic**: The **F-statistic of 83.31** and the **p-value < 0.05** suggest that the regression model is statistically significant.\n",
    "\n",
    "#### Key Observations:\n",
    "- The removal of the **influential point (X = 14)** improved the regression fit, as evidenced by the higher **R-squared** value.\n",
    "- The updated model provides a more reliable estimation of the relationship between the number of people invited and the number of people who attended.\n",
    "\n",
    "### Next Step:\n",
    "We can now use the updated model for further analysis or predictions based on the **number of people invited**.\n"
   ]
  },
  {
   "cell_type": "markdown",
   "metadata": {},
   "source": [
    "What changed? Based on the results of the two models and your graphs, what can you say about the form of the data with the problematic point and without it?"
   ]
  },
  {
   "cell_type": "markdown",
   "metadata": {},
   "source": [
    "*your explanation here*\n",
    "\n",
    "### Analysis of Changes After Removing Problematic Points\n",
    "\n",
    "After removing the problematic point **(X = 14)** from the dataset, several key changes occurred:\n",
    "\n",
    "1. **Improved Model Fit**: The updated model's **R-squared** value increased from **0.932** to **0.943**. This indicates that the regression model now explains **94.3%** of the variability in the data, which is a substantial improvement, suggesting that the removal of **Point (X = 14)** helped the model fit the data better.\n",
    "   \n",
    "2. **Slope**: The **slope of the updated model (0.6842)** is slightly higher than the original model, indicating that after removing the influential point, the relationship between the number of people invited and the number of people attending became more pronounced. For every additional person invited, the number of attendees increases by approximately **0.6842** instead of the previous estimate.\n",
    "\n",
    "3. **More Reliable Predictions**: With the removal of **Point (X = 14)**, the model has become more reliable. The regression line now fits the remaining data more appropriately, and the overall statistical significance of the model has improved, as shown by the higher **Adjusted R-squared** and the significant **p-value** for the slope.\n",
    "\n",
    "#### Based on the Graphs:\n",
    "- The **scatter plot with the regression line** after removing **Point (X = 14)** shows a more consistent linear trend in the data. The line no longer seems distorted by an extreme point.\n",
    "- The **residual plot** and **standardized residuals** also confirm that the model without the problematic point better adheres to the assumptions of linear regression.\n",
    "\n",
    "### Conclusion:\n",
    "By removing **Point (X = 14)**, we significantly improved the accuracy and reliability of the regression model. The data appears to have a **strong linear relationship** between the number of people invited and the number of people who attended. The updated model provides better predictions and insights for future analyses.\n",
    "\n",
    "This final model can now be used to make more confident predictions about the relationship between these two variables.\n"
   ]
  }
 ],
 "metadata": {
  "kernelspec": {
   "display_name": "Python [conda env:base] *",
   "language": "python",
   "name": "conda-base-py"
  },
  "language_info": {
   "codemirror_mode": {
    "name": "ipython",
    "version": 3
   },
   "file_extension": ".py",
   "mimetype": "text/x-python",
   "name": "python",
   "nbconvert_exporter": "python",
   "pygments_lexer": "ipython3",
   "version": "3.12.7"
  }
 },
 "nbformat": 4,
 "nbformat_minor": 4
}
